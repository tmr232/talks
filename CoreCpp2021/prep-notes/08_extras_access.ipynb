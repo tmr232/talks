{
 "cells": [
  {
   "cell_type": "markdown",
   "metadata": {
    "collapsed": true,
    "pycharm": {
     "name": "#%% md\n"
    }
   },
   "source": [
    "Another pain point that is commonly brought up is the lack of \"proper\"\n",
    "member-access specifiers.\n",
    "\n",
    "While C++ has `public`, `private`, and `protected`, Python has underscore\n",
    "prefixes. A single `_` for \"please treat this as a private member\" and two\n",
    "`__` for \"seriously, this is private!\".\n",
    "If you really want to keep people away, you can keep adding underscores.\n",
    "\n",
    "How about we add real access specifiers and checks in Python?\n",
    "This is going to be fun.\n",
    "\n",
    "## Member Access Specifiers\n",
    "\n",
    "Let's start with what we want to achieve."
   ]
  },
  {
   "cell_type": "code",
   "execution_count": null,
   "outputs": [],
   "source": [
    "class Thing(CppClass):\n",
    "    number: int\n",
    "\n",
    "    def private_method():\n",
    "        print(\"Private!\")\n",
    "\n",
    "    public()\n",
    "\n",
    "    def Thing(number):\n",
    "        this.number = number\n",
    "\n",
    "    def public_method():\n",
    "        print(\"Public!\")\n",
    "        print(this.number)\n",
    "        this.private_method()"
   ],
   "metadata": {
    "collapsed": false,
    "pycharm": {
     "name": "#%%\n"
    }
   }
  },
  {
   "cell_type": "markdown",
   "source": [
    "Once more, we're going to be building off the tools we've already used.\n",
    "\n",
    "First, let's review type-creation again.\n",
    "\n",
    "When Python defined a class, it starts by evaluating the code in the class\n",
    "body. Once it is done, the defined members are passed into the type\n",
    "constructor to create a new type.\n",
    "\n",
    "While we're inside the function body, the code is executed like in any\n",
    "other place.\n",
    "\n",
    "Let's review the tools at our disposal:\n",
    "\n",
    "1. Global state variables\n",
    "2. Functions to change the global state\n",
    "3. The ability to query the variables in the current scope\n",
    "4. The ability to get scopes above us in the call stack\n",
    "5. Function decorators\n",
    "6. Context Managers\n",
    "\n",
    "Let's start with the global state.\n",
    "We're going to keep track of 2 things.\n",
    "1. The current access specifier\n",
    "2. The members defined with that specifier.\n",
    "\n",
    "Whenever we call an access specifier, we look up the stack\n",
    "and query the local variables. Then we store their names in one of 4 dictionaries:\n",
    "1. Default access\n",
    "2. Private Access\n",
    "3. Protected Access\n",
    "4. Public Access\n",
    "\n",
    "With default existing to support both structs and classes.\n",
    "When it is called again, we only add the _new_ names to the dicts.\n",
    "\n",
    "In the type constructor, we collect all the names that were not assigned\n",
    "yet, and set them to the current access specifier.\n",
    "\n",
    "Then, for each function, we add an `__access__` attribute with it's matching\n",
    "access specifier.\n",
    "\n",
    "For members, we need to change the actual member class. It has to get the\n",
    "access specifier when it is constructed and store it internally.\n",
    "\n",
    "Now that we know which member has what access, we need to be able to check it.\n",
    "\n",
    "The first step in checking is knowing which function called us and which\n",
    "class it belongs to.\n",
    "\n",
    "So you guessed it - another global stack! This time, a caller stack.\n",
    "And yes, a caller context manager.\n",
    "Whenever we call a method, we add the `(instance, method)` pair into the\n",
    "stack. For free functions, we add `(None, function)`.\n",
    "\n",
    "Lastly, we add an access check in `cpp_method`, and another access check\n",
    "in the `CppMember` getter and setter."
   ],
   "metadata": {
    "collapsed": false
   }
  },
  {
   "cell_type": "code",
   "execution_count": null,
   "outputs": [],
   "source": [
    "from enum import Enum, auto\n",
    "import inspect\n",
    "\n",
    "\n",
    "class Access(Enum):\n",
    "    default = auto()\n",
    "    private = auto()\n",
    "    public = auto()\n",
    "    protected = auto()\n",
    "\n",
    "\n",
    "_access_info = {}\n",
    "_current_access = Access.default\n",
    "\n",
    "\n",
    "def set_access(access: Access):\n",
    "    global _current_access\n",
    "    for name in inspect.stack()[2].frame.f_locals:\n",
    "        if name.startswith(\"__\"):\n",
    "            continue\n",
    "\n",
    "        if name not in _access_info:\n",
    "            _access_info[name] = _current_access\n",
    "\n",
    "    _current_access = access\n",
    "\n",
    "\n",
    "def public():\n",
    "    set_access(Access.public)\n",
    "\n",
    "\n",
    "def private():\n",
    "    set_access(Access.private)\n",
    "\n",
    "\n",
    "def protected():\n",
    "    set_access(Access.protected)"
   ],
   "metadata": {
    "collapsed": false,
    "pycharm": {
     "name": "#%%\n"
    }
   }
  },
  {
   "cell_type": "code",
   "execution_count": null,
   "outputs": [],
   "source": [
    "class CppMember:\n",
    "    def __init__(self, access: Access):\n",
    "        self.access = access\n",
    "        ...\n",
    "\n",
    "    ...\n",
    "\n",
    "\n",
    "class CppClassMeta(type):\n",
    "    ...\n",
    "\n",
    "    @staticmethod\n",
    "    def _create_members(dct):\n",
    "        for name, type in dct.get(\"__annotations__\", {}).items():\n",
    "            member = CppMember(_access_info[name])\n",
    "            dct[name] = member\n",
    "\n",
    "    @staticmethod\n",
    "    def _wrap_methods(dct):\n",
    "        to_replace = {}\n",
    "\n",
    "        for name, value in dct.items():\n",
    "            if name.startswith(\"__\"):\n",
    "                continue\n",
    "\n",
    "            if inspect.isroutine(value):\n",
    "                value.__access__ = _access_info[name]\n",
    "                to_replace[name] = cpp_method(value)\n",
    "\n",
    "        dct.update(to_replace)"
   ],
   "metadata": {
    "collapsed": false,
    "pycharm": {
     "name": "#%%\n"
    }
   }
  },
  {
   "cell_type": "code",
   "execution_count": null,
   "outputs": [],
   "source": [
    "_caller_stack = []\n",
    "\n",
    "\n",
    "class CallerScope:\n",
    "    def __init__(self, caller):\n",
    "        _caller_stack.append(caller)\n",
    "\n",
    "    def __enter__(self):\n",
    "        pass\n",
    "\n",
    "    def __exit__(self, exc_type, exc_val, exc_tb):\n",
    "        _caller_stack.pop()\n",
    "\n",
    "\n",
    "def get_caller():\n",
    "    with suppress(IndexError):\n",
    "        return _caller_stack[-1]\n",
    "    return None\n",
    "\n",
    "\n",
    "def cpp_method(f):\n",
    "    ...\n",
    "    with CallerScope(self):\n",
    "        ...\n",
    "\n",
    "\n",
    "def cpp_function(f):\n",
    "    ...\n",
    "    with CallerScope(f):\n",
    "        ..."
   ],
   "metadata": {
    "collapsed": false,
    "pycharm": {
     "name": "#%%\n"
    }
   }
  },
  {
   "cell_type": "code",
   "execution_count": null,
   "outputs": [],
   "source": [
    "def may_access(caller, target, required_access):\n",
    "    if caller is None:\n",
    "        # We're calling from pure-Python, so we allow all :P\n",
    "        return True\n",
    "\n",
    "    if required_access == access.Default:\n",
    "        required_access = target.__default_access__\n",
    "\n",
    "    if required_access == access.Public:\n",
    "        return True\n",
    "\n",
    "    if required_access == access.Protected:\n",
    "        return isinstance(caller.instance, target.__class__)\n",
    "\n",
    "    if required_access == access.Private:\n",
    "        return type(caller) == type(target)\n",
    "\n",
    "    # TODO: Add support for friend classes and free-functions!\n",
    "\n",
    "    return False\n",
    "\n",
    "def cpp_method(f):\n",
    "    ...\n",
    "    may_access(...)\n",
    "    with CallerScope(self):\n",
    "        ...\n"
   ],
   "metadata": {
    "collapsed": false,
    "pycharm": {
     "name": "#%%\n"
    }
   }
  },
  {
   "cell_type": "code",
   "execution_count": null,
   "outputs": [],
   "source": [
    "class CppMember:\n",
    "    def __get__(self, instance, owner=None):\n",
    "        caller = get_caller()\n",
    "        if not may_access(caller, instance, self.access):\n",
    "            raise AccessError()\n",
    "        ...\n",
    "\n",
    "    def __set__(self, instance, value):\n",
    "        caller = get_caller()\n",
    "        if not may_access(caller, instance, self.access):\n",
    "            raise AccessError()\n",
    "        ..."
   ],
   "metadata": {
    "collapsed": false,
    "pycharm": {
     "name": "#%%\n"
    }
   }
  }
 ],
 "metadata": {
  "kernelspec": {
   "display_name": "Python 3",
   "language": "python",
   "name": "python3"
  },
  "language_info": {
   "codemirror_mode": {
    "name": "ipython",
    "version": 2
   },
   "file_extension": ".py",
   "mimetype": "text/x-python",
   "name": "python",
   "nbconvert_exporter": "python",
   "pygments_lexer": "ipython2",
   "version": "2.7.6"
  }
 },
 "nbformat": 4,
 "nbformat_minor": 0
}