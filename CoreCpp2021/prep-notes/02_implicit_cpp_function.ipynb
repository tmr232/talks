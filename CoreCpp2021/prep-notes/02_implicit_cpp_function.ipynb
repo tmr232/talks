{
 "cells": [
  {
   "cell_type": "markdown",
   "metadata": {
    "collapsed": true,
    "pycharm": {
     "name": "#%% md\n"
    }
   },
   "source": [
    "## Implicit\n",
    "\n",
    "\n",
    "\n",
    "Now that our destructors get called automatically on scope exit, we want to\n",
    "make sure that we don't need to do anything to make it happen.\n",
    "\n",
    "After all, our current example has 3 lines of context-management to 2 lines of\n",
    "actually functionality. It is also all too easy to forget to push your instance\n",
    "into the `dtor_stack` and have them hang indefinitely.\n",
    "\n",
    "If we could, we'd like our function to look like this:"
   ]
  },
  {
   "cell_type": "code",
   "execution_count": null,
   "outputs": [],
   "source": [
    "def main():\n",
    "    greeter1 = Greeter(1)\n",
    "    greeter2 = Greeter(2)"
   ],
   "metadata": {
    "collapsed": false,
    "pycharm": {
     "name": "#%%\n"
    }
   }
  },
  {
   "cell_type": "markdown",
   "source": [
    "And have it implicitly do all the plumbing we managed earlier.\n",
    "\n",
    "First, since we always want to push our objects onto the dtor stack, let's\n",
    "make it part of their construction."
   ],
   "metadata": {
    "collapsed": false
   }
  },
  {
   "cell_type": "code",
   "execution_count": null,
   "outputs": [],
   "source": [
    "class Greeter:\n",
    "    def __init__(self, name, dtor_stack):\n",
    "        self.name = name\n",
    "        print(f\"Hello, {self.name}!\")\n",
    "\n",
    "        dtor_stack.push(self)\n",
    "    ...\n",
    "\n",
    "class Greeter:\n",
    "    def __init__(self, name, dtor_stack):\n",
    "        dtor_stack.push(self)\n",
    "\n",
    "        self.name = name\n",
    "        print(f\"Hello, {self.name}!\")\n",
    "\n",
    "\n",
    "    def __enter__(self):\n",
    "        return self\n",
    "\n",
    "    def __exit__(self, exc_type, exc_val, exc_tb):\n",
    "        print(f\"Goodbye, {self.name}.\")\n",
    "        return False\n",
    "\n",
    "\n",
    "def main():\n",
    "    with DtorScope() as dtor_stack:\n",
    "        greeter1 = Greeter(1, dtor_stack)\n",
    "        greeter2 = Greeter(2, dtor_stack)\n",
    "\n",
    "\n",
    "main()"
   ],
   "metadata": {
    "collapsed": false,
    "pycharm": {
     "name": "#%%\n"
    }
   }
  },
  {
   "cell_type": "markdown",
   "source": [
    "That's a good start, as we can no longer forget to do that.\n",
    "\n",
    "That said, we're explicitly repeating and passing around a construct that\n",
    "should be implicit. Let's fix that.\n",
    "\n",
    "We wamt to convert our code from this:"
   ],
   "metadata": {
    "collapsed": false
   }
  },
  {
   "cell_type": "code",
   "execution_count": null,
   "outputs": [],
   "source": [
    "def main():\n",
    "    with DtorScope() as dtor_stack:\n",
    "        greeter1 = Greeter(1, dtor_stack)\n",
    "        greeter2 = Greeter(2, dtor_stack)"
   ],
   "metadata": {
    "collapsed": false,
    "pycharm": {
     "name": "#%%\n"
    }
   }
  },
  {
   "cell_type": "markdown",
   "source": [
    "To this:"
   ],
   "metadata": {
    "collapsed": false,
    "pycharm": {
     "name": "#%% md\n"
    }
   }
  },
  {
   "cell_type": "code",
   "execution_count": null,
   "outputs": [],
   "source": [
    "def main():\n",
    "    with DtorScope():\n",
    "        greeter1 = Greeter(1)\n",
    "        greeter2 = Greeter(2)"
   ],
   "metadata": {
    "collapsed": false,
    "pycharm": {
     "name": "#%%\n"
    }
   }
  },
  {
   "cell_type": "markdown",
   "source": [
    "To do that, we'll have to put the `DtorScope` somewhere our `Greeter`\n",
    "class can find it.\n",
    "A global variable!\n",
    "\n",
    "And just like function calls go into a stack so that we know where to return,\n",
    "so will our `DtorScope`s. So instead of a single global variable,\n",
    "we'll have to use a global stack."
   ],
   "metadata": {
    "collapsed": false,
    "pycharm": {
     "name": "#%% md\n"
    }
   }
  },
  {
   "cell_type": "code",
   "execution_count": null,
   "outputs": [],
   "source": [
    "_dtor_stack = []\n",
    "\n",
    "\n",
    "def get_dtor_stack():\n",
    "    return _dtor_stack\n",
    "\n",
    "\n",
    "class DtorScope:\n",
    "    def __init__(self):\n",
    "        self.stack = []\n",
    "        get_dtor_stack().append(self)\n",
    "\n",
    "    def __enter__(self):\n",
    "        return self\n",
    "\n",
    "    def __exit__(self, exc_type, exc_val, exc_tb):\n",
    "        get_dtor_stack().pop()\n",
    "\n",
    "        while self.stack:\n",
    "            self.stack.pop().__exit__(exc_type, exc_val, exc_tb)\n",
    "\n",
    "    def push(self, cm):\n",
    "        self.stack.append(cm)\n",
    "\n",
    "\n",
    "def push_dtor(cm):\n",
    "    return get_dtor_stack()[-1].push(cm)"
   ],
   "metadata": {
    "collapsed": false,
    "pycharm": {
     "name": "#%%\n"
    }
   }
  },
  {
   "cell_type": "markdown",
   "source": [
    "This is the same as our previous dtor-scope, but now we keep a global\n",
    "stack of scopes. This allows us to always tell which dtor-stack to push\n",
    "our instances into without naming the stack."
   ],
   "metadata": {
    "collapsed": false
   }
  },
  {
   "cell_type": "code",
   "execution_count": null,
   "outputs": [],
   "source": [
    "\n",
    "class Greeter:\n",
    "    def __init__(self, name):\n",
    "        self.name = name\n",
    "        print(f\"Hello, {self.name}!\")\n",
    "\n",
    "        push_dtor(self)\n",
    "\n",
    "    def __enter__(self):\n",
    "        return self\n",
    "\n",
    "    def __exit__(self, exc_type, exc_val, exc_tb):\n",
    "        print(f\"Goodbye, {self.name}.\")\n",
    "        return False\n",
    "\n",
    "\n",
    "def main():\n",
    "    with DtorScope():\n",
    "        greeter1 = Greeter(1)\n",
    "        greeter2 = Greeter(2)\n",
    "\n",
    "main()"
   ],
   "metadata": {
    "collapsed": false,
    "pycharm": {
     "name": "#%%\n"
    }
   }
  },
  {
   "cell_type": "markdown",
   "source": [
    "Then a little tweak to our `Greeter`, and we're done."
   ],
   "metadata": {
    "collapsed": false
   }
  },
  {
   "cell_type": "markdown",
   "source": [
    "Much better, but we still need to explicitly create the scope inside every\n",
    "function.\n",
    "\n",
    "Now, since the dtor scoping mechanism has nothing to do with the function itself,\n",
    "we can use it at the callsite instead of inside the function,\n",
    "and it'd work exactly the same."
   ],
   "metadata": {
    "collapsed": false,
    "pycharm": {
     "name": "#%% md\n"
    }
   }
  },
  {
   "cell_type": "code",
   "execution_count": null,
   "outputs": [],
   "source": [
    "def main():\n",
    "    greeter1 = Greeter(1)\n",
    "    greeter2 = Greeter(2)\n",
    "\n",
    "with DtorScope():\n",
    "    main()"
   ],
   "metadata": {
    "collapsed": false,
    "pycharm": {
     "name": "#%%\n"
    }
   }
  },
  {
   "cell_type": "markdown",
   "source": [
    "This will have to be done on _every_ callsite, so we add a utility function\n",
    "to help with that.\n",
    "\n",
    "The `*args, **kwargs` syntax is Python's equivalent of perfect-forwarding."
   ],
   "metadata": {
    "collapsed": false
   }
  },
  {
   "cell_type": "code",
   "execution_count": null,
   "outputs": [],
   "source": [
    "def call(f, *args, **kwargs):\n",
    "    with DtorScope():\n",
    "        return f(*args, **kwargs)\n",
    "\n",
    "call(main)"
   ],
   "metadata": {
    "collapsed": false,
    "pycharm": {
     "name": "#%%\n"
    }
   }
  },
  {
   "cell_type": "markdown",
   "source": [
    "Alternatively, we can take the function and return a closure that includes\n",
    "the scoping"
   ],
   "metadata": {
    "collapsed": false
   }
  },
  {
   "cell_type": "code",
   "execution_count": null,
   "outputs": [],
   "source": [
    "def cpp_function(f):\n",
    "    def _wrapper(*args, **kwargs):\n",
    "        with DtorScope():\n",
    "            return f(*args, **kwargs)\n",
    "    return _wrapper\n",
    "\n",
    "scoped_main = cpp_function(main)\n",
    "\n",
    "scoped_main()"
   ],
   "metadata": {
    "collapsed": false,
    "pycharm": {
     "name": "#%%\n"
    }
   }
  },
  {
   "cell_type": "markdown",
   "source": [
    "Inside `_wrapper` we capture `f` from the parent scope.\n",
    "As Python is reference-based, we don't need to specify how to capture.\n",
    "\n",
    "Next, since Python is dynamic, we can replace the original `main`\n",
    "function with the scoped one"
   ],
   "metadata": {
    "collapsed": false
   }
  },
  {
   "cell_type": "code",
   "execution_count": null,
   "outputs": [],
   "source": [
    "def cpp_function(f):\n",
    "    def _wrapper(*args, **kwargs):\n",
    "        with DtorScope():\n",
    "            return call(f, *args, **kwargs)\n",
    "    return _wrapper\n",
    "\n",
    "def main():\n",
    "    greeter1 = Greeter(1)\n",
    "    greeter2 = Greeter(2)\n",
    "\n",
    "main = cpp_function(main)\n",
    "\n",
    "main()"
   ],
   "metadata": {
    "collapsed": false,
    "pycharm": {
     "name": "#%%\n"
    }
   }
  },
  {
   "cell_type": "markdown",
   "source": [
    "Here the wrapper holds the previous version of the function, while the name\n",
    "`main` is bound to the wrapped version.\n",
    "\n",
    "In Python, wrapping a function and replacing its original is a common operation.\n",
    "Because of that, we have some syntactic sugar called \"decorators\""
   ],
   "metadata": {
    "collapsed": false
   }
  },
  {
   "cell_type": "code",
   "execution_count": null,
   "outputs": [],
   "source": [
    "def cpp_function(f):\n",
    "    def _wrapper(*args, **kwargs):\n",
    "        with DtorScope():\n",
    "            return f(*args, **kwargs)\n",
    "\n",
    "    return _wrapper\n",
    "\n",
    "@cpp_function\n",
    "def main():\n",
    "    greeter1 = Greeter(1)\n",
    "    greeter2 = Greeter(2)\n",
    "\n",
    "main()"
   ],
   "metadata": {
    "collapsed": false,
    "pycharm": {
     "name": "#%%\n"
    }
   }
  },
  {
   "cell_type": "markdown",
   "source": [
    "This is completely identical to the previous code.\n",
    "The decorator syntax, however, makes things look declerative and natural.\n"
   ],
   "metadata": {
    "collapsed": false
   }
  },
  {
   "cell_type": "markdown",
   "source": [
    "This is much better. Now the insides of our function look just like a regular\n",
    "function."
   ],
   "metadata": {
    "collapsed": false
   }
  }
 ],
 "metadata": {
  "kernelspec": {
   "display_name": "Python 3",
   "language": "python",
   "name": "python3"
  },
  "language_info": {
   "codemirror_mode": {
    "name": "ipython",
    "version": 2
   },
   "file_extension": ".py",
   "mimetype": "text/x-python",
   "name": "python",
   "nbconvert_exporter": "python",
   "pygments_lexer": "ipython2",
   "version": "2.7.6"
  }
 },
 "nbformat": 4,
 "nbformat_minor": 0
}