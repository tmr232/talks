{
 "cells": [
  {
   "cell_type": "markdown",
   "source": [
    "## Automatic"
   ],
   "metadata": {
    "collapsed": false,
    "pycharm": {
     "name": "#%% md\n"
    }
   }
  },
  {
   "cell_type": "markdown",
   "source": [
    "Since our target class is a bit complicated, we'll be joined in our implementation\n",
    "journey by a simple class called `Greeter`.\n",
    "The greeter is a simple class.\n",
    "It takes a name on construction, and says \"Hello\".\n",
    "On destruction, it says \"Goodbye\"\n",
    "\n",
    "This will allow us to keep track of ctors and dtors as we progress through the talk."
   ],
   "metadata": {
    "collapsed": false,
    "pycharm": {
     "name": "#%% md\n"
    }
   }
  },
  {
   "cell_type": "code",
   "execution_count": 5,
   "outputs": [],
   "source": [
    "class Greeter:\n",
    "    def __init__(self, name):\n",
    "        self.name = name\n",
    "        print(f\"Hello, {self.name}!\")\n",
    "\n",
    "    def close(self):\n",
    "        print(f\"Goodbye, {self.name}.\")\n",
    "\n",
    "\n",
    "def main():\n",
    "    greeter = Greeter(1)\n",
    "    print(\"We have a greeter!\")\n",
    "    greeter.close()"
   ],
   "metadata": {
    "collapsed": false,
    "pycharm": {
     "name": "#%%\n"
    }
   }
  },
  {
   "cell_type": "markdown",
   "source": [
    "Our first implementation is as straight-forward as can be.\n",
    "With a constructor and a \"close\" method to act like our dtor."
   ],
   "metadata": {
    "collapsed": false,
    "pycharm": {
     "name": "#%% md\n"
    }
   }
  },
  {
   "cell_type": "markdown",
   "source": [
    "This is pretty straight-forward, as we already have context-managers and the `with` statement.\n",
    "We just need to use them.\n",
    "\n",
    "As we go through the implementation, we'll be using a simple class called `Greeter`.\n",
    "`Greeter` is a friendly class to help us keep track of construction and destruction."
   ],
   "metadata": {
    "collapsed": false,
    "pycharm": {
     "name": "#%% md\n"
    }
   }
  },
  {
   "cell_type": "code",
   "execution_count": 2,
   "metadata": {
    "collapsed": true
   },
   "outputs": [
    {
     "name": "stdout",
     "output_type": "stream",
     "text": [
      "Hello, 1!\n",
      "We have a greeter!\n",
      "Goodbye, 1.\n"
     ]
    }
   ],
   "source": [
    "class Greeter:\n",
    "    def __init__(self, name):\n",
    "        self.name = name\n",
    "        print(f\"Hello, {self.name}!\")\n",
    "\n",
    "    def __enter__(self):\n",
    "        return self\n",
    "\n",
    "    def __exit__(self, exc_type, exc_val, exc_tb):\n",
    "        print(f\"Goodbye, {self.name}.\")\n",
    "        return False\n",
    "\n",
    "\n",
    "def main():\n",
    "    with Greeter(1):\n",
    "        print(\"We have a greeter!\")\n",
    "\n",
    "\n",
    "main()"
   ]
  },
  {
   "cell_type": "markdown",
   "source": [
    "But what if we want more than one greeter?\n",
    "\n",
    "Sure, we can use another `with` statement, but that doesn't work too well..."
   ],
   "metadata": {
    "collapsed": false
   }
  },
  {
   "cell_type": "code",
   "execution_count": 3,
   "outputs": [
    {
     "name": "stdout",
     "output_type": "stream",
     "text": [
      "Hello, 1!\n",
      "First\n",
      "Hello, 2!\n",
      "Second\n",
      "Goodbye, 2.\n",
      "Goodbye, 1.\n"
     ]
    }
   ],
   "source": [
    "def main():\n",
    "    with Greeter(1):\n",
    "        print(\"First\")\n",
    "        with Greeter(2):\n",
    "            print(\"Second\")\n",
    "\n",
    "\n",
    "main()"
   ],
   "metadata": {
    "collapsed": false,
    "pycharm": {
     "name": "#%%\n"
    }
   }
  },
  {
   "cell_type": "markdown",
   "source": [
    "It works, but you can see how the indentation would get you soon enough.\n",
    "\n",
    "So, instead of using more and more `with` statement to stack\n",
    "things up, let's use a proper stack!"
   ],
   "metadata": {
    "collapsed": false
   }
  },
  {
   "cell_type": "code",
   "execution_count": 1,
   "outputs": [],
   "source": [
    "\n",
    "class DtorScope:\n",
    "    def __init__(self):\n",
    "        self.stack = []\n",
    "\n",
    "    def __enter__(self):\n",
    "        return self\n",
    "\n",
    "    def __exit__(self, exc_type, exc_val, exc_tb):\n",
    "        while self.stack:\n",
    "            self.stack.pop().__exit__(exc_type, exc_val, exc_tb)\n",
    "\n",
    "    def push(self, cm):\n",
    "        self.stack.append(cm)"
   ],
   "metadata": {
    "collapsed": false,
    "pycharm": {
     "name": "#%%\n"
    }
   }
  },
  {
   "cell_type": "markdown",
   "source": [
    "This is our own context manager.\n",
    "It holds a stack of our objects, and when exiting the scope,\n",
    "it calls their exit handlers in the right order."
   ],
   "metadata": {
    "collapsed": false,
    "pycharm": {
     "name": "#%% md\n"
    }
   }
  },
  {
   "cell_type": "code",
   "execution_count": 4,
   "outputs": [
    {
     "name": "stdout",
     "output_type": "stream",
     "text": [
      "Hello, 1!\n",
      "Hello, 2!\n",
      "Goodbye, 2.\n",
      "Goodbye, 1.\n"
     ]
    }
   ],
   "source": [
    "\n",
    "\n",
    "def main():\n",
    "    with DtorScope() as dtor_stack:\n",
    "        greeter1 = Greeter(1)\n",
    "        dtor_stack.push(greeter1)\n",
    "\n",
    "        greeter2 = Greeter(2)\n",
    "        dtor_stack.push(greeter2)\n",
    "\n",
    "\n",
    "main()"
   ],
   "metadata": {
    "collapsed": false,
    "pycharm": {
     "name": "#%%\n"
    }
   }
  },
  {
   "cell_type": "markdown",
   "source": [
    "This works.\n",
    "It is automatic, it is fairly straight-forward, and it is way too explicit.\n",
    "\n",
    "This is why our next part is..."
   ],
   "metadata": {
    "collapsed": false,
    "pycharm": {
     "name": "#%% md\n"
    }
   }
  }
 ],
 "metadata": {
  "kernelspec": {
   "display_name": "Python 3",
   "language": "python",
   "name": "python3"
  },
  "language_info": {
   "codemirror_mode": {
    "name": "ipython",
    "version": 2
   },
   "file_extension": ".py",
   "mimetype": "text/x-python",
   "name": "python",
   "nbconvert_exporter": "python",
   "pygments_lexer": "ipython2",
   "version": "2.7.6"
  }
 },
 "nbformat": 4,
 "nbformat_minor": 0
}