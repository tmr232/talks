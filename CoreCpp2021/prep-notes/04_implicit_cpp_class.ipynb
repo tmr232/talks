{
 "cells": [
  {
   "cell_type": "markdown",
   "metadata": {
    "collapsed": true,
    "pycharm": {
     "name": "#%% md\n"
    }
   },
   "source": [
    "# CppClass\n",
    "\n",
    "Another thing we want to address is the code inside our `Greeter`.\n",
    "\n",
    "We are currently writing a lot of boilerplate there.\n",
    "\n",
    "We have the `__enter__` method, the unused `__exit__` arguments, and pushing\n",
    "the instance into the dtor stack."
   ]
  },
  {
   "cell_type": "code",
   "execution_count": null,
   "outputs": [],
   "source": [
    "class Greeter:\n",
    "    def __init__(self, name):\n",
    "        push_dtor(self)\n",
    "\n",
    "        self.name = name\n",
    "        print(f\"Hello, {self.name}!\")\n",
    "\n",
    "    def __enter__(self):\n",
    "        return self\n",
    "\n",
    "    def __exit__(self, exc_type, exc_val, exc_tb):\n",
    "        print(f\"Goodbye, {self.name}.\")"
   ],
   "metadata": {
    "collapsed": false,
    "pycharm": {
     "name": "#%%\n"
    }
   }
  },
  {
   "cell_type": "code",
   "execution_count": null,
   "outputs": [],
   "source": [
    "from cpp import magic\n",
    "\n",
    "\n",
    "class CppClass:\n",
    "    def __init__(self, *args, **kwargs):\n",
    "        push_dtor(self)\n",
    "\n",
    "        ctor = getattr(self, self.__class__.__name__, None)\n",
    "        if ctor:\n",
    "            ctor(*args, **kwargs)\n",
    "\n",
    "    def __enter__(self):\n",
    "        return self\n",
    "\n",
    "    def __exit__(self, exc_type, exc_val, exc_tb):\n",
    "        dtor = getattr(self, \"_\" + self.__class__.__name__, None)\n",
    "        if dtor:\n",
    "            dtor()\n",
    "\n",
    "\n",
    "class Greeter(CppClass):\n",
    "    def Greeter(self, name):\n",
    "        self.name = name\n",
    "        print(f\"Hello, {self.name}!\")\n",
    "\n",
    "    def _Greeter(self):\n",
    "        print(f\"Goodbye, {self.name}.\")\n",
    "\n",
    "\n",
    "def main():\n",
    "    greeter1 = Greeter(1)\n",
    "    greeter2 = Greeter(2)\n"
   ],
   "metadata": {
    "collapsed": false,
    "pycharm": {
     "name": "#%%\n"
    }
   }
  },
  {
   "cell_type": "markdown",
   "source": [
    "That's great.\n",
    "Now as we add more classes, we don't need to handle all that annoying\n",
    "dtor-stack stuff.\n",
    "\n",
    "But... We're still missing something.\n",
    "We decorated all free functions with `cpp_function`, but we still need to\n",
    "decorate all of our member functions."
   ],
   "metadata": {
    "collapsed": false,
    "pycharm": {
     "name": "#%% md\n"
    }
   }
  },
  {
   "cell_type": "code",
   "execution_count": null,
   "outputs": [],
   "source": [
    "def decorate_object_methods(obj):\n",
    "    for name, value in inspect.getmembers(obj):\n",
    "        if name.startswith(\"__\"):\n",
    "            continue\n",
    "\n",
    "        if not inspect.isroutine(value):\n",
    "            continue\n",
    "\n",
    "        setattr(self, name, cpp_function(value))\n",
    "\n",
    "\n",
    "class CppClass:\n",
    "    def __init__(self, *args, **kwargs):\n",
    "        push_dtor(self)\n",
    "\n",
    "        decorate_object_methods(self)\n",
    "\n",
    "        ctor = getattr(self, self.__class__.__name__, None)\n",
    "        if ctor:\n",
    "            ctor(*args, **kwargs)\n",
    "\n",
    "    def __enter__(self):\n",
    "        return self\n",
    "\n",
    "    def __exit__(self, exc_type, exc_val, exc_tb):\n",
    "        dtor = getattr(self, \"_\" + self.__class__.__name__, None)\n",
    "        if dtor:\n",
    "            dtor()\n"
   ],
   "metadata": {
    "collapsed": false,
    "pycharm": {
     "name": "#%%\n"
    }
   }
  },
  {
   "cell_type": "markdown",
   "source": [
    "This is similar to what we did with the modules, but this\n",
    "time we check for special methods, as we don't wanna decorate them."
   ],
   "metadata": {
    "collapsed": false,
    "pycharm": {
     "name": "#%% md\n"
    }
   }
  },
  {
   "cell_type": "markdown",
   "source": [
    "Last but not list - we want to make it truly implicit.\n",
    "\n",
    "Currently, our `Greeter` class subclasses `CppClass` to get the\n",
    "relevant functionality.\n",
    "\n",
    "In essence, we're injecting 3 methods into our `Greeter` class\n",
    "using inheritance.\n",
    "But we can also do this using a decorator.\n",
    "We take the class, make the relevant modifications,\n",
    "then return the modified version."
   ],
   "metadata": {
    "collapsed": false,
    "pycharm": {
     "name": "#%% md\n"
    }
   }
  },
  {
   "cell_type": "code",
   "execution_count": null,
   "outputs": [],
   "source": [
    "Greeter.__init__ = __init__\n",
    "Greeter.__enter__ = __enter__\n",
    "Greeter.__exit__ = __exit__\n"
   ],
   "metadata": {
    "collapsed": false,
    "pycharm": {
     "name": "#%%\n"
    }
   }
  },
  {
   "cell_type": "code",
   "execution_count": null,
   "outputs": [],
   "source": [
    "\n",
    "def cpp_class(cls):\n",
    "\n",
    "    def __init__(self, *args, **kwargs):\n",
    "        push_dtor(self)\n",
    "\n",
    "        decorate_object_methods(self)\n",
    "\n",
    "        ctor = getattr(self, self.__class__.__name__, None)\n",
    "        if ctor:\n",
    "            ctor(*args, **kwargs)\n",
    "\n",
    "    def __enter__(self):\n",
    "        return self\n",
    "\n",
    "    def __exit__(self, exc_type, exc_val, exc_tb):\n",
    "        dtor = getattr(self, \"_\" + self.__class__.__name__, None)\n",
    "        if dtor:\n",
    "            dtor()\n",
    "\n",
    "    cls.__init__ = __init__\n",
    "    cls.__enter__ = __enter__\n",
    "    cls.__exit__ = __exit__\n",
    "\n",
    "    return cls\n",
    "\n",
    "\n",
    "@cpp_class\n",
    "class Greeter:\n",
    "    ..."
   ],
   "metadata": {
    "collapsed": false,
    "pycharm": {
     "name": "#%%\n"
    }
   }
  },
  {
   "cell_type": "markdown",
   "source": [
    "As a next step, we move the decoration out of the constructor,\n",
    "and perform it on the class object instead of the instance.\n",
    "\n",
    "Additionally, as we can no longer tell our object is a `CppClass`\n",
    "using inheritance checks, we add a flag to indicate it."
   ],
   "metadata": {
    "collapsed": false,
    "pycharm": {
     "name": "#%% md\n"
    }
   }
  },
  {
   "cell_type": "code",
   "execution_count": null,
   "outputs": [],
   "source": [
    "def cpp_class(cls):\n",
    "    decorate_object_methods(cls)\n",
    "\n",
    "    for name in getattr(cls, '__annotations__', {}):\n",
    "        member = CppMember()\n",
    "        member.__set_name__(cls, name)\n",
    "        setattr(cls, name, member)\n",
    "\n",
    "    def __init__(self, *args, **kwargs):\n",
    "        push_dtor(self)\n",
    "        ctor = getattr(self, self.__class__.__name__, None)\n",
    "        if ctor:\n",
    "            ctor(*args, **kwargs)\n",
    "\n",
    "    def __enter__(self):\n",
    "        return self\n",
    "\n",
    "    def __exit__(self, exc_type, exc_val, exc_tb):\n",
    "        dtor = getattr(self, \"_\" + self.__class__.__name__, None)\n",
    "        if dtor:\n",
    "            dtor()\n",
    "\n",
    "    setattr(cls, '__init__', __init__)\n",
    "    setattr(cls, '__enter__', __enter__)\n",
    "    setattr(cls, '__exit__', __exit__)\n",
    "\n",
    "    setattr(cls, '__cpp_class__', True)\n",
    "\n",
    "    return cls\n",
    "\n",
    "def is_cpp_class(obj):\n",
    "    return hasattr(obj, '__cpp_class__')"
   ],
   "metadata": {
    "collapsed": false,
    "pycharm": {
     "name": "#%%\n"
    }
   }
  },
  {
   "cell_type": "markdown",
   "source": [
    "And lastly, we modify our `_magic()` method to decorate classes,\n",
    "as well as functions."
   ],
   "metadata": {
    "collapsed": false,
    "pycharm": {
     "name": "#%% md\n"
    }
   }
  },
  {
   "cell_type": "code",
   "execution_count": null,
   "outputs": [],
   "source": [
    "def decorate_module_classes(module):\n",
    "    for name, value in inspect.getmembers(module):\n",
    "        if not inspect.isclass(value):\n",
    "            continue\n",
    "\n",
    "        # Only convert functions that were defined in the importing file.\n",
    "        # We don't want to convert library imports and the likes of those.\n",
    "        if inspect.getmodule(value) != module:\n",
    "            continue\n",
    "\n",
    "        setattr(module, name, cpp_class(value))\n",
    "\n",
    "\n",
    "def _magic():\n",
    "    calling_module = get_calling_module()\n",
    "    name = calling_module.__name__\n",
    "    path = calling_module.__file__\n",
    "    if hasattr(calling_module, IMPORT_FLAG):\n",
    "        return\n",
    "\n",
    "    imported_module = import_by_path(name, path)\n",
    "\n",
    "    decorate_module_functions(imported_module)\n",
    "    decorate_module_classes(imported_module)\n",
    "\n",
    "    if imported_module.__name__ == \"__main__\":\n",
    "        sys.exit(imported_module.main())"
   ],
   "metadata": {
    "collapsed": false,
    "pycharm": {
     "name": "#%%\n"
    }
   }
  },
  {
   "cell_type": "code",
   "execution_count": null,
   "outputs": [],
   "source": [
    "def decorate_module_members(module):\n",
    "    for name, value in inspect.getmembers(module):\n",
    "        if inspect.getmodule(value) != module:\n",
    "            continue\n",
    "\n",
    "        if inspect.isroutine(value):\n",
    "            setattr(module, name, cpp_function(value))\n",
    "\n",
    "        elif inspect.isclass(value):\n",
    "            setattr(module, name, cpp_class(value))"
   ],
   "metadata": {
    "collapsed": false,
    "pycharm": {
     "name": "#%%\n"
    }
   }
  },
  {
   "cell_type": "markdown",
   "source": [
    "And with that all of our classes are converted to C++ classes automatically!"
   ],
   "metadata": {
    "collapsed": false,
    "pycharm": {
     "name": "#%% md\n"
    }
   }
  },
  {
   "cell_type": "code",
   "execution_count": null,
   "outputs": [],
   "source": [
    "from cpp import magic\n",
    "\n",
    "class Greeter:\n",
    "    def Greeter(self, name):\n",
    "        self.name = name\n",
    "        print(f\"Hello, {self.name}!\")\n",
    "\n",
    "    def _Greeter(self):\n",
    "        print(f\"Goodbye, {self.name}.\")\n",
    "\n",
    "def main():\n",
    "    greeter1 = Greeter(1)\n",
    "    greeter2 = Greeter(2)"
   ],
   "metadata": {
    "collapsed": false,
    "pycharm": {
     "name": "#%%\n"
    }
   }
  }
 ],
 "metadata": {
  "kernelspec": {
   "display_name": "Python 3",
   "language": "python",
   "name": "python3"
  },
  "language_info": {
   "codemirror_mode": {
    "name": "ipython",
    "version": 2
   },
   "file_extension": ".py",
   "mimetype": "text/x-python",
   "name": "python",
   "nbconvert_exporter": "python",
   "pygments_lexer": "ipython2",
   "version": "2.7.6"
  }
 },
 "nbformat": 4,
 "nbformat_minor": 0
}