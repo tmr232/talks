{
 "cells": [
  {
   "cell_type": "markdown",
   "source": [
    "## Members\n",
    "\n",
    "We now have destructors implemented for all our classes, and they are called\n",
    "automatically and implicitly when we exit functions.\n",
    "\n",
    "The next thing to discuss is composability. After all, we want to keep\n",
    "our objects as members for any actual use.\n",
    "\n",
    "\n",
    "Well, that should be fairly simple!\n",
    "We just take our value and store it in a member variable."
   ],
   "metadata": {
    "collapsed": false
   }
  },
  {
   "cell_type": "code",
   "execution_count": null,
   "outputs": [],
   "source": [
    "class BetterArchiveReader:\n",
    "    zipfile: ZipFile\n",
    "\n",
    "    def BetterArchiveReader(self, path: str):\n",
    "        self.zipfile = ZipFile(path)\n",
    "\n",
    "    def read(self, name: str):\n",
    "        with self.zipfile.open(name) as f:\n",
    "            return f.read()\n",
    "\n",
    "    def _BetterArchiveReader(self):\n",
    "        self.zipfile.close()"
   ],
   "metadata": {
    "collapsed": false,
    "pycharm": {
     "name": "#%%\n"
    }
   }
  },
  {
   "cell_type": "code",
   "execution_count": null,
   "outputs": [],
   "source": [
    "class BetterArchiveReader:\n",
    "    zipfile: ZipFile\n",
    "\n",
    "    def BetterArchiveReader(self, path: str):\n",
    "        self.zipfile = ZipFile(path)\n",
    "        remove_dtor(self.zipfile)\n",
    "\n",
    "    def read(self, name: str):\n",
    "        with self.zipfile.open(name) as f:\n",
    "            return f.read()\n",
    "\n",
    "    def _BetterArchiveReader(self):\n",
    "        self.zipfile.close()"
   ],
   "metadata": {
    "collapsed": false,
    "pycharm": {
     "name": "#%%\n"
    }
   }
  },
  {
   "cell_type": "code",
   "execution_count": null,
   "outputs": [],
   "source": [
    "class Reader:\n",
    "    def __init__(self, path):\n",
    "        self.zipfile = ZipFile(path)\n"
   ],
   "metadata": {
    "collapsed": false,
    "pycharm": {
     "name": "#%%\n"
    }
   }
  },
  {
   "cell_type": "markdown",
   "source": [
    "Well, we _do_ have a member now, but we also have a dangling reference.\n",
    "As soon as we leave the constructor, the destructor for `ZipFile` will be called,\n",
    "and our member will be destructed. Any usage will result in undefined behaviour.\n",
    "\n",
    "For members to actually work, we need to remove them from the destuctor-scope\n",
    "of the current function.\n",
    "\n",
    "To do this, we need to go back to our `DtorScope` and add another method:"
   ],
   "metadata": {
    "collapsed": false
   }
  },
  {
   "cell_type": "code",
   "execution_count": null,
   "outputs": [],
   "source": [
    "class DtorScope:\n",
    "    stack: list\n",
    "    ...\n",
    "    def remove(self, cm):\n",
    "        self.stack.remove(cm)"
   ],
   "metadata": {
    "collapsed": false,
    "pycharm": {
     "name": "#%%\n"
    }
   }
  },
  {
   "cell_type": "markdown",
   "source": [
    "This won't work, though. `deque.remove()` removes by equality, not identity.\n",
    "To remedy this, we'll borrow a trick from the C++ playbook and use a\n",
    "comparison function object."
   ],
   "metadata": {
    "collapsed": false
   }
  },
  {
   "cell_type": "code",
   "execution_count": null,
   "outputs": [],
   "source": [
    "class IdentityComparator:\n",
    "    def __init__(self, obj):\n",
    "        self.obj = obj\n",
    "\n",
    "    def __eq__(self, other):\n",
    "        return self.obj is other\n",
    "\n",
    "\n",
    "class DtorScope:\n",
    "    ...\n",
    "    def remove(self, cm):\n",
    "        self.stack.remove(IdentityComparator(cm))\n",
    "\n",
    "def remove_dtor(cm):\n",
    "    get_dtor_stack()[-1].remove(cm)"
   ],
   "metadata": {
    "collapsed": false,
    "pycharm": {
     "name": "#%%\n"
    }
   }
  },
  {
   "cell_type": "markdown",
   "source": [
    "By changing the equality operator for our wrapper to check for identity,\n",
    "we can easily remove our object from the `DtorScope`."
   ],
   "metadata": {
    "collapsed": false
   }
  },
  {
   "cell_type": "code",
   "execution_count": null,
   "outputs": [],
   "source": [
    "class Reader:\n",
    "    def Reader(self, path):\n",
    "        self.zipfile = ZipFile(path)\n",
    "        remove_dtor(self.zipfile)"
   ],
   "metadata": {
    "collapsed": false,
    "pycharm": {
     "name": "#%%\n"
    }
   }
  },
  {
   "cell_type": "markdown",
   "source": [
    "Now we know that it isn't destructed at the end of the scope,\n",
    "but we still need to destruct it somewhere."
   ],
   "metadata": {
    "collapsed": false
   }
  },
  {
   "cell_type": "code",
   "execution_count": null,
   "outputs": [],
   "source": [
    "class Reader:\n",
    "    ...\n",
    "    def _Reader(self):\n",
    "        self.zipfile.__exit__(None, None, None)"
   ],
   "metadata": {
    "collapsed": false,
    "pycharm": {
     "name": "#%%\n"
    }
   }
  },
  {
   "cell_type": "markdown",
   "source": [
    "Not pretty, but it works.\n"
   ],
   "metadata": {
    "collapsed": false
   }
  },
  {
   "cell_type": "markdown",
   "source": [
    "But now we're back to manually trigerring our dtor mechanisms, and no one\n",
    "wants that.\n",
    "\n",
    "Instead, we want the removal from the scope to happen automatically on\n",
    "assignment, and cleanup to happen automatically in our class' dtor.\n",
    "\n",
    "Unlike C++, Python does not have an assignment operator.\n",
    "It does, however, allow for getters and setters for member variables."
   ],
   "metadata": {
    "collapsed": false
   }
  },
  {
   "cell_type": "markdown",
   "source": [
    "Before we go into the actual Python mechanism, let's write our getter\n",
    "and setter using naive Python code."
   ],
   "metadata": {
    "collapsed": false
   }
  },
  {
   "cell_type": "code",
   "execution_count": null,
   "outputs": [],
   "source": [
    "class Reader:\n",
    "    def get_zipfile(self):\n",
    "        return self.zipfile\n",
    "\n",
    "    def set_zipfile(self, zipfile):\n",
    "        old = getattr(self, \"zipfile\", None)\n",
    "\n",
    "        if isinstance(old, CppClass):\n",
    "            old.__exit__(None, None, None)\n",
    "\n",
    "        if isinstance(zipfile, CppClass):\n",
    "            remove_dtor(zipfile)\n",
    "\n",
    "        self.zipfile = zipfile\n",
    "\n",
    "    def Reader(self, path):\n",
    "        self.set_zipfile(ZipFile(path))"
   ],
   "metadata": {
    "collapsed": false,
    "pycharm": {
     "name": "#%%\n"
    }
   }
  },
  {
   "cell_type": "markdown",
   "source": [
    "Our getter `get_zipfile` is as straightforward as can be.\n",
    "We just return the value, as we won't allow moving out of members.\n",
    "\n",
    "Our setter, on the other hand, has a bit of work to do.\n",
    "If an existing file exists, it triggers it's dtor.\n",
    "Then, it removes the new value from the scope, and sets the value.\n",
    "\n",
    "Note that this is pseudo code - now that we auto-decorate all member\n",
    "functions, `remove_dtor` will remove from the wrong scope!\n",
    "\n",
    "But, now that we know what our getter and setter need to do,\n",
    "we can go on to implement them in a cleaner fashion."
   ],
   "metadata": {
    "collapsed": false
   }
  },
  {
   "cell_type": "markdown",
   "source": [
    "In Python, if a class member variable implements `__get__` and `__set__`\n",
    "methods, they will be called on instance member access to provide\n",
    "getters and setters.\n",
    "Such objects are called Descriptors.\n",
    "\n",
    "Just like our plain function-based getters, the new object will also\n",
    "a member variable of the hosting class to store the value."
   ],
   "metadata": {
    "collapsed": false
   }
  },
  {
   "cell_type": "code",
   "execution_count": null,
   "outputs": [],
   "source": [
    "class CppMember:\n",
    "    def __set_name__(self, owner, name):\n",
    "        self.private_name = \"_\" + name\n",
    "\n",
    "    def __get__(self, instance, owner=None):\n",
    "        return getattr(instance, self.private_name)\n",
    "\n",
    "    def __set__(self, instance, value):\n",
    "        old = getattr(instance, self.private_name, None)\n",
    "\n",
    "        if isinstance(old, CppClass):\n",
    "            old.__exit__(None, None, None)\n",
    "\n",
    "        if isinstance(value, CppClass):\n",
    "            remove_dtor(value)\n",
    "\n",
    "        setattr(instance, self.private_name, value)\n",
    "\n",
    "class Reader:\n",
    "    zipfile = CppMember()\n",
    "    def Reader(self, path):\n",
    "        self.zipfile = ZipFile(path)\n",
    "\n",
    "\n",
    "        self.zipfile.__get__(self)\n",
    "        zipfile.__set__(self, ZipFile(path))\n",
    "        BetterArchiveReader.zipfile.__set_name__(BetterArchiveReader, \"zipfile\")"
   ],
   "metadata": {
    "collapsed": false,
    "pycharm": {
     "name": "#%%\n"
    }
   }
  },
  {
   "cell_type": "markdown",
   "source": [
    "The `__set_name__` will be automatically called by Python whe the\n",
    "class (not the instance!) is created, to pass the variable name\n",
    "into the descriptor.\n",
    "\n",
    "Since our descriptor will occupy the user's choice of a name, we prefix\n",
    "the name so that we can use it for our own variable storage."
   ],
   "metadata": {
    "collapsed": false
   }
  },
  {
   "cell_type": "markdown",
   "source": [
    "With that we can freely assign member variables and avoid use-after-free.\n",
    "But we still need to free them at some point...\n",
    "\n",
    "To fix that, we'll have to add some code to the destructor.\n",
    "We'll go through all the members, and if they're a `CppClass` object,\n",
    "we'll destruct them."
   ],
   "metadata": {
    "collapsed": false
   }
  },
  {
   "cell_type": "code",
   "execution_count": null,
   "outputs": [],
   "source": [
    "def cpp_class(cls):\n",
    "    ...\n",
    "    def __exit__(self, exc_type, exc_val, exc_tb):\n",
    "        dtor = getattr(self, \"_\"+self.__class__.__name__, None)\n",
    "        if dtor:\n",
    "            dtor()\n",
    "\n",
    "        with DtorScope():\n",
    "            for _, value in inspect.getmembers(self):\n",
    "                push_dtor(value)"
   ],
   "metadata": {
    "collapsed": false,
    "pycharm": {
     "name": "#%%\n"
    }
   }
  },
  {
   "cell_type": "markdown",
   "source": [
    "All we have to do is push our members into a new DtorScope, and\n",
    "they'll get automatically destructed."
   ],
   "metadata": {
    "collapsed": false
   }
  },
  {
   "cell_type": "markdown",
   "source": [
    "**Need to add code sample here, showing our class with members!**"
   ],
   "metadata": {
    "collapsed": false
   }
  },
  {
   "cell_type": "code",
   "execution_count": null,
   "outputs": [],
   "source": [
    "class Reader:\n",
    "    zipfile = CppMember()\n",
    "    def Reader(self, path):\n",
    "        self.zipfile = ZipFile(path)\n"
   ],
   "metadata": {
    "collapsed": false,
    "pycharm": {
     "name": "#%%\n"
    }
   }
  },
  {
   "cell_type": "markdown",
   "source": [
    "And we're good to go. But we can go a step further, and hide\n",
    "the instantiation of `CppMember()`.\n",
    "Python now allows type-annotation. They don't do anything, but they\n",
    "can be queried.\n",
    "So instead of assigning a `CppMember` for every member variable,\n",
    "we'll just annotate them with the type they are intended to hold,\n",
    "and let our type-constructor do the rest.\n",
    "We can access `dct['__annotations__']` for a mapping off all the annotations\n",
    "in a class."
   ],
   "metadata": {
    "collapsed": false
   }
  },
  {
   "cell_type": "code",
   "execution_count": null,
   "outputs": [],
   "source": [
    "def create_members(cls):\n",
    "    member_names = list(getattr(cls, '__annotations__', {}))\n",
    "\n",
    "    for name in member_names:\n",
    "        member = CppMember()\n",
    "        member.__set_name__(cls, name)\n",
    "        setattr(cls, name, member)\n",
    "\n",
    "    setattr(cls, '__member_names__', member_names)\n",
    "\n",
    "def cpp_class(cls):\n",
    "    ...\n",
    "    create_members(cls)\n",
    "    ...\n",
    "\n",
    "\n",
    "class Reader:\n",
    "    zipfile: ZipFile\n",
    "    def Reader(self, path):\n",
    "        self.zipfile = ZipFile(path)"
   ],
   "metadata": {
    "collapsed": false,
    "pycharm": {
     "name": "#%%\n"
    }
   }
  },
  {
   "cell_type": "markdown",
   "source": [
    "**TODO: add the complete code sample here!"
   ],
   "metadata": {
    "collapsed": false
   }
  },
  {
   "cell_type": "markdown",
   "source": [
    "And with that, we've achieved our initial goal."
   ],
   "metadata": {
    "collapsed": false
   }
  }
 ],
 "metadata": {
  "kernelspec": {
   "display_name": "Python 3",
   "language": "python",
   "name": "python3"
  },
  "language_info": {
   "codemirror_mode": {
    "name": "ipython",
    "version": 2
   },
   "file_extension": ".py",
   "mimetype": "text/x-python",
   "name": "python",
   "nbconvert_exporter": "python",
   "pygments_lexer": "ipython2",
   "version": "2.7.6"
  }
 },
 "nbformat": 4,
 "nbformat_minor": 0
}