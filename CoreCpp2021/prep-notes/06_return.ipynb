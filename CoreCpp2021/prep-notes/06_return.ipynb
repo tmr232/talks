{
 "cells": [
  {
   "cell_type": "markdown",
   "metadata": {
    "collapsed": true,
    "pycharm": {
     "name": "#%% md\n"
    }
   },
   "source": [
    "One thing that you may be missing, is the ability to return\n",
    "values from functions, or pass them into functions.\n",
    "Or more generally, lifetime-handling.\n",
    "\n",
    "As lifetimes are a _very_ complicated topic, we're only going to\n",
    "cover return values today.\n",
    "\n",
    "Luckily, we've done all the ground-work already, so this should be quick."
   ]
  },
  {
   "cell_type": "code",
   "execution_count": null,
   "outputs": [],
   "source": [
    "def rebind_to_parent_dtor(cm):\n",
    "    # We wanna automatically handle non-C++ types as well\n",
    "    if isinstance(cm, CppClass):\n",
    "        get_dtor_stack()[-1].remove(cm)\n",
    "        get_dtor_stack()[-2].push(cm)\n",
    "\n",
    "def cpp_function(f):\n",
    "    def _wrapper(*args, **kwargs):\n",
    "        with DtorScope():\n",
    "            retval = f(*args, **kwargs)\n",
    "            rebind_to_parent_dtor(retval)\n",
    "            return retval\n",
    "\n",
    "    return _wrapper"
   ],
   "metadata": {
    "collapsed": false,
    "pycharm": {
     "name": "#%%\n"
    }
   }
  },
  {
   "cell_type": "markdown",
   "source": [
    "Instead of returning the value directly in our wrapper,\n",
    "we add an extra step.\n",
    "\n",
    "We take the returned value, attach it to the parent scope,\n",
    "and then return it.\n",
    "\n",
    "With that - we're done with return values."
   ],
   "metadata": {
    "collapsed": false,
    "pycharm": {
     "name": "#%% md\n"
    }
   }
  }
 ],
 "metadata": {
  "kernelspec": {
   "display_name": "Python 3",
   "language": "python",
   "name": "python3"
  },
  "language_info": {
   "codemirror_mode": {
    "name": "ipython",
    "version": 2
   },
   "file_extension": ".py",
   "mimetype": "text/x-python",
   "name": "python",
   "nbconvert_exporter": "python",
   "pygments_lexer": "ipython2",
   "version": "2.7.6"
  }
 },
 "nbformat": 4,
 "nbformat_minor": 0
}