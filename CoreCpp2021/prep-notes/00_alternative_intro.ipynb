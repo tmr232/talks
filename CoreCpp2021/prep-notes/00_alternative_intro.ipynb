{
 "cells": [
  {
   "cell_type": "markdown",
   "metadata": {
    "collapsed": true,
    "pycharm": {
     "name": "#%% md\n"
    }
   },
   "source": [
    "\n",
    "Hello everyone!\n",
    "\n",
    "\n",
    "Today we're going to make Python act a bit more like C++.\n",
    "\n",
    "I know, this might seem weird.\n",
    "After all, Python is nice and simple and C++ tends to be\n",
    "treated as an expert-only language.\n",
    "And recently made several changes that make it more \"Python-like\".\n",
    "\n",
    "So, what would make us want to make Python more C++-like?\n",
    "Resource Management.\n",
    "\n",
    "As a garbage-collected language, Python handles memory management for us.\n",
    "No malloc, no free, just objects.\n",
    "\n",
    "But when we're managing other resources - like files, connections, locks, etc.,\n",
    "Garbage Collection does nothing to help us.\n",
    "\n",
    "Instead, Python uses a mechanism called \"Context Managers\"."
   ]
  },
  {
   "cell_type": "code",
   "execution_count": null,
   "outputs": [],
   "source": [
    "with open(\"path\",\"r\") as f:\n",
    "    print(f.read())\n",
    "\n",
    "\n",
    "with open(path, \"r\") as f:\n",
    "    print(f.read())\n",
    "\n",
    "_f = open(path, \"r\")\n",
    "f = _f.__enter__()\n",
    "try:\n",
    "    print(f.read())\n",
    "except:\n",
    "    _f.__exit__(<exception-info>)\n",
    "\n",
    "\n",
    "with FileReader(path) as reader:\n",
    "    print(reader.read())\n",
    "\n",
    "_tmp = FileReader(path)\n",
    "_exception_info = None\n",
    "reader = _tmp.__enter__()\n",
    "print(reader.read())\n",
    "_tmp.__exit__(<exception-info>)\n",
    "\n",
    "\n",
    "class FileReader:\n",
    "    def __enter__(self):\n",
    "        return self\n",
    "\n",
    "    def __exit__(self, exc_type, exc_val, exc_tb):\n",
    "        self.close()\n",
    "\n",
    "    ...\n"
   ],
   "metadata": {
    "collapsed": false,
    "pycharm": {
     "name": "#%%\n"
    }
   }
  },
  {
   "cell_type": "markdown",
   "source": [
    "Wh"
   ],
   "metadata": {
    "collapsed": false,
    "pycharm": {
     "name": "#%% md\n"
    }
   }
  }
 ],
 "metadata": {
  "kernelspec": {
   "display_name": "Python 3",
   "language": "python",
   "name": "python3"
  },
  "language_info": {
   "codemirror_mode": {
    "name": "ipython",
    "version": 2
   },
   "file_extension": ".py",
   "mimetype": "text/x-python",
   "name": "python",
   "nbconvert_exporter": "python",
   "pygments_lexer": "ipython2",
   "version": "2.7.6"
  }
 },
 "nbformat": 4,
 "nbformat_minor": 0
}