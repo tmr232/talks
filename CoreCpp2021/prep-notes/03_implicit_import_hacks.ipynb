{
 "cells": [
  {
   "cell_type": "markdown",
   "source": [
    "# Import Hacks\n",
    "\n",
    "That said, we still have to manually decorate each and every function in\n",
    "our code to make sure they work right.\n",
    "\n",
    "Naturally, as we keep writing and using our C++.py code,\n",
    "we'll have it in a separate package that we can import.\n",
    "\n",
    "So no matter what we do, we'll have to import our code.\n",
    "`from cpp import whatever`.\n",
    "\n",
    "Wouldn't it be nice if we could just write `from cpp import magic`\n",
    "at the first line of our code, and have all the relevant behaviour\n",
    "automatically brought in?"
   ],
   "metadata": {
    "collapsed": false
   }
  },
  {
   "cell_type": "code",
   "execution_count": null,
   "outputs": [],
   "source": [
    "from cpp import cpp_function\n",
    "\n",
    "\n",
    "@cpp_function\n",
    "def main():\n",
    "    greeter1 = Greeter(1)\n",
    "    greeter2 = Greeter(2)\n",
    "\n",
    "\n",
    "main()\n"
   ],
   "metadata": {
    "collapsed": false,
    "pycharm": {
     "name": "#%%\n"
    }
   }
  },
  {
   "cell_type": "code",
   "execution_count": null,
   "outputs": [],
   "source": [
    "from cpp import magic\n",
    "\n",
    "def main():\n",
    "    greeter1 = Greeter(1)\n",
    "    greeter2 = Greeter(2)\n"
   ],
   "metadata": {
    "collapsed": false,
    "pycharm": {
     "name": "#%%\n"
    }
   }
  },
  {
   "cell_type": "markdown",
   "source": [
    "Well, let's start!\n",
    "\n",
    "First, we'll call a function at the end of our module to decorate everything:"
   ],
   "metadata": {
    "collapsed": false
   }
  },
  {
   "cell_type": "code",
   "execution_count": null,
   "outputs": [],
   "source": [
    "from cpp import magic\n",
    "\n",
    "from greeter import Greeter\n",
    "\n",
    "def main():\n",
    "    greeter1 = Greeter(1)\n",
    "    greeter2 = Greeter(2)\n",
    "\n",
    "magic()\n",
    "\n",
    "main()"
   ],
   "metadata": {
    "collapsed": false,
    "pycharm": {
     "name": "#%%\n"
    }
   }
  },
  {
   "cell_type": "markdown",
   "source": [
    "Our `magic()` function needs to do 2 things.\n",
    "Get the module it was called in, and decorate all the functions."
   ],
   "metadata": {
    "collapsed": false
   }
  },
  {
   "cell_type": "code",
   "execution_count": null,
   "outputs": [],
   "source": [
    "def magic():\n",
    "    calling_module = get_calling_module()\n",
    "    decorate_module_functions(calling_module)"
   ],
   "metadata": {
    "collapsed": false,
    "pycharm": {
     "name": "#%%\n"
    }
   }
  },
  {
   "cell_type": "markdown",
   "source": [
    "To get the calling module, we use `inspect.stack` to traverse\n",
    "the callstack and find the right module"
   ],
   "metadata": {
    "collapsed": false
   }
  },
  {
   "cell_type": "code",
   "execution_count": null,
   "outputs": [],
   "source": [
    "import inspect\n",
    "\n",
    "def get_calling_module():\n",
    "    # Use 2 here because we need to go 2 frames up.\n",
    "    stack_frame = inspect.stack()[2].frame\n",
    "    module = inspect.getmodule(stack_frame)\n",
    "    return module"
   ],
   "metadata": {
    "collapsed": false,
    "pycharm": {
     "name": "#%%\n"
    }
   }
  },
  {
   "cell_type": "markdown",
   "source": [
    "We get the callstack, take the frame 2 level above us (the caller to `magic()`),\n",
    "and use `inspect.getmodule` to get the relevant module.\n",
    "\n",
    "Now we need to decorate our functions!"
   ],
   "metadata": {
    "collapsed": false
   }
  },
  {
   "cell_type": "code",
   "execution_count": null,
   "outputs": [],
   "source": [
    "def decorate_module_functions(module):\n",
    "    for name, value in inspect.getmembers(module):\n",
    "        if not inspect.isroutine(value):\n",
    "            continue\n",
    "\n",
    "        # Only convert functions that were defined in the importing file.\n",
    "        # We don't want to convert library imports and the likes of those.\n",
    "        if inspect.getmodule(value) != module:\n",
    "            continue\n",
    "\n",
    "        setattr(module, name, cpp_function(value))"
   ],
   "metadata": {
    "collapsed": false,
    "pycharm": {
     "name": "#%%\n"
    }
   }
  },
  {
   "cell_type": "markdown",
   "source": [
    "Our function takes a module and modifies it.\n",
    "\n",
    "To do this, we're using some of Python's reflection capabilities.\n",
    "`inspect.getmembers(obj)` returns all the member variables of a given object.\n",
    "In our case - a module.\n",
    "`inspect.isroutine(obj)` tells us whether a value is a function.\n",
    "`inspect.getmodule(obj)` returns the module an object was defined in.\n",
    "`setattr(obj, name, value)` sets an object attribute named `name` to `value`.\n",
    "\n",
    "And with that our `magic()` function is operational!"
   ],
   "metadata": {
    "collapsed": false
   }
  },
  {
   "cell_type": "code",
   "execution_count": null,
   "outputs": [],
   "source": [
    "from cpp import magic\n",
    "\n",
    "from greeter import Greeter\n",
    "\n",
    "def main():\n",
    "    greeter1 = Greeter(1)\n",
    "    greeter2 = Greeter(2)\n",
    "\n",
    "magic()\n",
    "\n",
    "main()"
   ],
   "metadata": {
    "collapsed": false,
    "pycharm": {
     "name": "#%%\n"
    }
   }
  },
  {
   "cell_type": "markdown",
   "source": [
    "**Maybe this should be done in 2 parts?\n",
    "First we handle libraries.\n",
    "They are simpler to handle as we can execute them safely.\n",
    "Then we handle the main module, which cannot execute more than\n",
    "once and cannot be replaced.**"
   ],
   "metadata": {
    "collapsed": false
   }
  },
  {
   "cell_type": "markdown",
   "source": [
    "Great!\n",
    "\n",
    "Now, the next step is to make the call to `magic()` disappear as well.\n",
    "\n",
    "This means that we need to somehow make the `from cpp import magic` line\n",
    "do the actual magic.\n",
    "\n",
    "\"But Tamir! An import is not a function call!\" you might say.\n",
    "\n",
    "Well, let's see what a Python import actually does."
   ],
   "metadata": {
    "collapsed": false
   }
  },
  {
   "cell_type": "markdown",
   "source": [
    "Let's look at an example to see how imports work in Python.\n",
    "\n",
    "When we run `from cpp import magic` we go through the following steps.\n",
    "\n",
    "First, we look for a module named `cpp` in the global module cache,\n",
    "`sys.modules`.\n",
    "If it is present, the module is already loaded, and we can skip to name binding.\n",
    "\n",
    "If it is not present in the cache, we find it on disk, place module object\n",
    "in the cache, and then execute the module.\n",
    "\n",
    "Note that we first store it in the cache, and only then execute the module.\n",
    "This is important as Python does allow for cyclic imports, and we want to\n",
    "avoid recursion.\n",
    "It will also come in handy later.\n",
    "\n",
    "Once we finish executing the module, we need to bind the relevant names.\n",
    "In this case - `magic`.\n",
    "\n",
    "Python takes the `cpp` module from `sys.modules` and looks for `magic`\n",
    "inside it.\n",
    "If it finds it, it binds that to the name `magic`.\n",
    "\n",
    "Lastly, Python modules may define a `__getattr__(name)` function.\n",
    "If it is defined, it is called whenever we try to import a name\n",
    "that isn't present in the module."
   ],
   "metadata": {
    "collapsed": false,
    "pycharm": {
     "name": "#%% md\n"
    }
   }
  },
  {
   "cell_type": "code",
   "execution_count": null,
   "outputs": [],
   "source": [
    "magic = cpp.magic\n",
    "\n",
    "magic = cpp.__getattr__(\"magic\")\n",
    "\n",
    "sys.modules"
   ],
   "metadata": {
    "collapsed": false,
    "pycharm": {
     "name": "#%%\n"
    }
   }
  },
  {
   "cell_type": "markdown",
   "source": [
    "So, as you can see - `import` _can_ be a function call!\n",
    "\n"
   ],
   "metadata": {
    "collapsed": false,
    "pycharm": {
     "name": "#%% md\n"
    }
   }
  },
  {
   "cell_type": "code",
   "execution_count": null,
   "outputs": [],
   "source": [
    "def _magic():\n",
    "    calling_module = get_calling_module()\n",
    "    decorate_module_functions(calling_module)\n",
    "\n",
    "def __getattr__(name):\n",
    "    if name != \"magic\":\n",
    "        raise AttributeError()\n",
    "\n",
    "    _magic()"
   ],
   "metadata": {
    "collapsed": false,
    "pycharm": {
     "name": "#%%\n"
    }
   }
  },
  {
   "cell_type": "markdown",
   "source": [
    "This converts the import to a call and allows C++ to work it's magic."
   ],
   "metadata": {
    "collapsed": false
   }
  },
  {
   "cell_type": "code",
   "execution_count": null,
   "outputs": [],
   "source": [
    "from cpp import magic\n",
    "\n",
    "from greeter import Greeter\n",
    "\n",
    "def main():\n",
    "    greeter1 = Greeter(1)\n",
    "    greeter2 = Greeter(2)\n",
    "\n",
    "main()"
   ],
   "metadata": {
    "collapsed": false,
    "pycharm": {
     "name": "#%%\n"
    }
   }
  },
  {
   "cell_type": "markdown",
   "source": [
    "Well, almost...\n",
    "\n",
    "You see, since we're imported on the first line of the module,\n",
    "the module is empty.\n",
    "The functions we want to decorate are not yet defined.\n",
    "\n",
    "To fix this, we can do one of two things.\n",
    "\n",
    "The first option is to import our magic at the end of the file"
   ],
   "metadata": {
    "collapsed": false
   }
  },
  {
   "cell_type": "code",
   "execution_count": null,
   "outputs": [],
   "source": [
    "from greeter import Greeter\n",
    "\n",
    "def main():\n",
    "    greeter1 = Greeter(1)\n",
    "    greeter2 = Greeter(2)\n",
    "\n",
    "from cpp import magic\n",
    "\n",
    "main()"
   ],
   "metadata": {
    "collapsed": false,
    "pycharm": {
     "name": "#%%\n"
    }
   }
  },
  {
   "cell_type": "markdown",
   "source": [
    "This works, but feels far from magical.\n",
    "\n",
    "The other option, then, is to import the modules ourselves!\n",
    "With the fully imported module at hand, we can modify it as we wish.\n",
    "\n",
    "This means that our `_magic()` function is going to change a little:"
   ],
   "metadata": {
    "collapsed": false
   }
  },
  {
   "cell_type": "code",
   "execution_count": null,
   "outputs": [],
   "source": [
    "\n",
    "import importlib.util\n",
    "import sys\n",
    "\n",
    "def import_by_path(name: str, path: str):\n",
    "    spec = importlib.util.spec_from_file_location(name, path)\n",
    "    module = importlib.util.module_from_spec(spec)\n",
    "    sys.modules[name] = module\n",
    "    spec.loader.exec_module(module)\n",
    "    return module\n",
    "\n",
    "\n",
    "def _magic():\n",
    "    calling_module = get_calling_module()\n",
    "    name = calling_module.__name__\n",
    "    path = calling_module.__file__\n",
    "    imported_module = import_by_path(name, path)\n",
    "    decorate_module_functions(imported_module)"
   ],
   "metadata": {
    "collapsed": false,
    "pycharm": {
     "name": "#%%\n"
    }
   }
  },
  {
   "cell_type": "markdown",
   "source": [
    "Using Python's import mechanisms, we import another instance of the\n",
    "module that imported us.\n",
    "\n",
    "We use it's name and path to import it again, then store it in the\n",
    "global module cache instead of the original.\n",
    "\n",
    "This is where the fact that the cache is filled _prior_ to module execution\n",
    "comes in handy!\n",
    "\n",
    "We execute the module, to define all the types,\n",
    "and then decorate the functions.\n",
    "\n",
    "With this change, we can now write"
   ],
   "metadata": {
    "collapsed": false
   }
  },
  {
   "cell_type": "code",
   "execution_count": null,
   "outputs": [],
   "source": [
    "from cpp import magic\n",
    "\n",
    "from greeter import Greeter\n",
    "\n",
    "def main():\n",
    "    greeter1 = Greeter(1)\n",
    "    greeter2 = Greeter(2)\n",
    "\n",
    "main()"
   ],
   "metadata": {
    "collapsed": false,
    "pycharm": {
     "name": "#%%\n"
    }
   }
  },
  {
   "cell_type": "markdown",
   "source": [
    "And recurse infinitely.\n",
    "\n",
    "Our module runs the `magic()` function.\n",
    "The `magic()` function imports our module.\n",
    "The module runs the `magic()` function.\n",
    "The `magic()` function imports our module.\n",
    "\n",
    "And so on and so forth.\n",
    "\n",
    "To fix that, we add a flag to all the modules we import,\n",
    "before executing them.\n",
    "\n",
    "Then, in our `magic()` function, we check for the flag."
   ],
   "metadata": {
    "collapsed": false
   }
  },
  {
   "cell_type": "code",
   "execution_count": null,
   "outputs": [],
   "source": [
    "IMPORT_FLAG = \"__magically_imported__\"\n",
    "\n",
    "def import_by_path(name: str, path: str):\n",
    "    spec = importlib.util.spec_from_file_location(name, path)\n",
    "    module = importlib.util.module_from_spec(spec)\n",
    "    sys.modules[name] = module\n",
    "    setattr(module, IMPORT_FLAG, True)\n",
    "    spec.loader.exec_module(module)\n",
    "    return module\n",
    "\n",
    "\n",
    "def _magic():\n",
    "    calling_module = get_calling_module()\n",
    "    name = calling_module.__name__\n",
    "    path = calling_module.__file__\n",
    "    if hasattr(calling_module, IMPORT_FLAG):\n",
    "        return\n",
    "\n",
    "    imported_module = import_by_path(name, path)\n",
    "\n",
    "    decorate_module_functions(imported_module)"
   ],
   "metadata": {
    "collapsed": false,
    "pycharm": {
     "name": "#%%\n"
    }
   }
  },
  {
   "cell_type": "markdown",
   "source": [
    "This breaks the recursion.\n",
    "\n",
    "Now we're good to go, except for one thing."
   ],
   "metadata": {
    "collapsed": false
   }
  },
  {
   "cell_type": "code",
   "execution_count": null,
   "outputs": [],
   "source": [
    "from cpp import magic\n",
    "\n",
    "from greeter import Greeter\n",
    "\n",
    "def main():\n",
    "    greeter1 = Greeter(1)\n",
    "    greeter2 = Greeter(2)\n",
    "\n",
    "main()"
   ],
   "metadata": {
    "collapsed": false,
    "pycharm": {
     "name": "#%%\n"
    }
   }
  },
  {
   "cell_type": "markdown",
   "source": [
    "Once we finish all of our import magic,\n",
    "we return to the module that triggered the magic.\n",
    "This module has not yet been modified.\n",
    "Once we return to it, it'll run to completion.\n",
    "This means that any side-effects will take place.\n",
    "In the case of our main module - `main()` will run twice.\n",
    "First, when we import it inside `magic()`.\n",
    "Second, when we return to the main module and let it execute.\n",
    "In both cases, we'll be running the non-decorated version.\n",
    "\n",
    "To avoid this kind of thing, Python code usually uses the following:"
   ],
   "metadata": {
    "collapsed": false
   }
  },
  {
   "cell_type": "code",
   "execution_count": null,
   "outputs": [],
   "source": [
    "if __name__ == \"__main__\":\n",
    "    main()"
   ],
   "metadata": {
    "collapsed": false,
    "pycharm": {
     "name": "#%%\n"
    }
   }
  },
  {
   "cell_type": "markdown",
   "source": [
    "`__name__` always holds the name of the current module.\n",
    "In the case of the main module, it'll be `\"__main__\"`.\n",
    "\n",
    "This ensures that when a module is imported it will not\n",
    "run the `main()` function.\n",
    "\n",
    "In our case, this will not be enough.\n",
    "First, we actually do import the module.\n",
    "Second, we need to ensure that once we're done, the original doesn't run.\n",
    "\n",
    "So once again, we modify our magic function!"
   ],
   "metadata": {
    "collapsed": false
   }
  },
  {
   "cell_type": "code",
   "execution_count": null,
   "outputs": [],
   "source": [
    "def _magic():\n",
    "    calling_module = get_calling_module()\n",
    "    name = calling_module.__name__\n",
    "    path = calling_module.__file__\n",
    "    if hasattr(calling_module, IMPORT_FLAG):\n",
    "        return\n",
    "\n",
    "    imported_module = import_by_path(name, path)\n",
    "\n",
    "    decorate_module_functions(imported_module)\n",
    "\n",
    "    if imported_module.__name__ == \"__main__\":\n",
    "        sys.exit(imported_module.main())"
   ],
   "metadata": {
    "collapsed": false,
    "pycharm": {
     "name": "#%%\n"
    }
   }
  },
  {
   "cell_type": "markdown",
   "source": [
    "Now, once we finished handling and decorating the main module,\n",
    "we call it's `main()` function and terminate.\n",
    "\n",
    "And with that, we can truly write our module:"
   ],
   "metadata": {
    "collapsed": false
   }
  },
  {
   "cell_type": "code",
   "execution_count": null,
   "outputs": [],
   "source": [
    "from cpp import magic\n",
    "\n",
    "from greeter import Greeter\n",
    "\n",
    "def main():\n",
    "    greeter1 = Greeter(1)\n",
    "    greeter2 = Greeter(2)\n"
   ],
   "metadata": {
    "collapsed": false,
    "pycharm": {
     "name": "#%%\n"
    }
   }
  }
 ],
 "metadata": {
  "kernelspec": {
   "display_name": "Python 3",
   "language": "python",
   "name": "python3"
  },
  "language_info": {
   "codemirror_mode": {
    "name": "ipython",
    "version": 2
   },
   "file_extension": ".py",
   "mimetype": "text/x-python",
   "name": "python",
   "nbconvert_exporter": "python",
   "pygments_lexer": "ipython2",
   "version": "2.7.6"
  }
 },
 "nbformat": 4,
 "nbformat_minor": 0
}