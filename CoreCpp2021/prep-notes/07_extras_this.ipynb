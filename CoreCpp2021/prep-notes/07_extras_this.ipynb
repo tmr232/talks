{
 "cells": [
  {
   "cell_type": "markdown",
   "source": [
    "We now have composably destructible objects. They are automatically\n",
    "destructed and implicitly handled.\n",
    "They allow composition and even allow returning from functions.\n",
    "\n",
    "With that accomplished, we can go ahead and make some cosmetic changes\n",
    "to our code. After all, this _is_ a C++ conferense, is it not?\n",
    "\n",
    "One common pain point for C++ programmers writing in Python is `self`.\n",
    "You have to pass it around _everywhere_.\n",
    "Wouldn't it be nice if we could write our code like this instead?"
   ],
   "metadata": {
    "collapsed": false,
    "pycharm": {
     "name": "#%% md\n"
    }
   }
  },
  {
   "cell_type": "code",
   "execution_count": null,
   "metadata": {
    "collapsed": true
   },
   "outputs": [],
   "source": [
    "class Reader(CppClass):\n",
    "    zipfile:ZipFile\n",
    "\n",
    "    def Reader(path):\n",
    "        this.zipfile = ZipFile(path)\n"
   ]
  },
  {
   "cell_type": "markdown",
   "source": [
    "Well, let's make it happen. We already have most of the building blocks\n",
    "at hand.\n",
    "\n",
    "We already decorate all of our methods, and we're used to using global\n",
    "stacks managed by context managers.\n",
    "All we need to do is add a stack for `self`, accessed via `this`."
   ],
   "metadata": {
    "collapsed": false
   }
  },
  {
   "cell_type": "code",
   "execution_count": null,
   "outputs": [],
   "source": [
    "_this_stack = deque()\n",
    "\n",
    "class ThisProxy:\n",
    "    def __getattr__(self, name):\n",
    "        return getattr(_this_stack[-1], name)\n",
    "\n",
    "    def __setattr__(self, name, value):\n",
    "        setattr(_this_stack[-1], name, value)\n",
    "\n",
    "\n",
    "class ThisScope:\n",
    "    def __init__(self, instance):\n",
    "        _this_stack.append(instance)\n",
    "    def __enter__(self):\n",
    "        return\n",
    "    def __exit__(self, exc_type, exc_val, exc_tb):\n",
    "        _this_stack.pop()\n",
    "\n",
    "\n",
    "this = ThisProxy()"
   ],
   "metadata": {
    "collapsed": false,
    "pycharm": {
     "name": "#%%\n"
    }
   }
  },
  {
   "cell_type": "markdown",
   "source": [
    "We did, however, have to proxy access to the stack, as re-assigning\n",
    "`this` would achieve nothing, as we discussed before.\n",
    "\n",
    "Another change we'll have to do is decorate methods a bit differently\n",
    "than we do free functions.\n",
    "We need to add the `ThisScope` context, and we need to explicitly\n",
    "handle the `self` argument passed to them."
   ],
   "metadata": {
    "collapsed": false
   }
  },
  {
   "cell_type": "code",
   "execution_count": null,
   "outputs": [],
   "source": [
    "def cpp_method(f):\n",
    "    def _wrapper(self, *args, **kwargs):\n",
    "        with ThisScope(self):\n",
    "            with DtorScope():\n",
    "                retval = f(*args, **kwargs)\n",
    "                rebind_to_parent_dtor(retval)\n",
    "                return retval\n",
    "\n",
    "    return _wrapper"
   ],
   "metadata": {
    "collapsed": false,
    "pycharm": {
     "name": "#%%\n"
    }
   }
  },
  {
   "cell_type": "markdown",
   "source": [
    "And with that, we can write our `Reader` as follows:"
   ],
   "metadata": {
    "collapsed": false
   }
  },
  {
   "cell_type": "code",
   "execution_count": null,
   "outputs": [],
   "source": [
    "class Reader(CppClass):\n",
    "    zipfile:ZipFile\n",
    "\n",
    "    def Reader(path):\n",
    "        this.zipfile = ZipFile(path)\n",
    "\n",
    "    ..."
   ],
   "metadata": {
    "collapsed": false,
    "pycharm": {
     "name": "#%%\n"
    }
   }
  }
 ],
 "metadata": {
  "kernelspec": {
   "display_name": "Python 3",
   "language": "python",
   "name": "python3"
  },
  "language_info": {
   "codemirror_mode": {
    "name": "ipython",
    "version": 2
   },
   "file_extension": ".py",
   "mimetype": "text/x-python",
   "name": "python",
   "nbconvert_exporter": "python",
   "pygments_lexer": "ipython2",
   "version": "2.7.6"
  }
 },
 "nbformat": 4,
 "nbformat_minor": 0
}