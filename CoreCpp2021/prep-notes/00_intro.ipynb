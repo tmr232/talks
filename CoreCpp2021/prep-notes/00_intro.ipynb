{
 "cells": [
  {
   "cell_type": "markdown",
   "metadata": {
    "collapsed": true,
    "pycharm": {
     "name": "#%% md\n"
    }
   },
   "source": [
    "Hello everyone!\n",
    "\n",
    "Today we're to make Python act like C++.\n",
    "\n",
    "By a raise of hands - who here uses C++?\n",
    "Uses C++ as their main language?\n",
    "\n",
    "Uses Python?\n",
    "Python as a main language?\n",
    "\n",
    "Who prefers Python?\n",
    "Who prefers C++?"
   ]
  },
  {
   "cell_type": "markdown",
   "source": [
    "Anyhow, C++ is a large language. Very large.\n",
    "\n",
    "So today we'll focus on my favourite C++ feature.\n",
    "\n",
    "Destructors!"
   ],
   "metadata": {
    "collapsed": false,
    "pycharm": {
     "name": "#%% md\n"
    }
   }
  },
  {
   "cell_type": "markdown",
   "source": [
    "I started seriously learning & working in C++ after several years\n",
    "of development in C and Python.\n",
    "\n",
    "Both when coming from a lower-level language like C,\n",
    "and coming from a supposedly higher-level language like Python,\n",
    "destructors are an exciting new addition to a programmer's toolbox."
   ],
   "metadata": {
    "collapsed": false,
    "pycharm": {
     "name": "#%% md\n"
    }
   }
  },
  {
   "cell_type": "markdown",
   "source": [
    "Destructors have 3 main properties we're going to discuss today.\n",
    "They are:\n",
    "\n",
    "1. Automatic\n",
    "2. Composable\n",
    "3. Implicit"
   ],
   "metadata": {
    "collapsed": false,
    "pycharm": {
     "name": "#%% md\n"
    }
   }
  },
  {
   "cell_type": "markdown",
   "source": [
    "## Automatic\n",
    "\n",
    "Dtors are called automatically when you leave the scope.\n",
    "It doesn't matter if you return, or raise an exception.\n",
    "Doesn't matter if you have 1 return statement in your\n",
    "function or 10, the destructors are automatically called where needed.\n",
    "\n",
    "```C++\n",
    "// Without Dtors\n",
    "\n",
    "auto read_file(string path) -> string {\n",
    "    FileReader file{path};\n",
    "    string content = file.read();\n",
    "    file.close();\n",
    "    return content;\n",
    "}\n",
    "```\n",
    "\n",
    "```C++\n",
    "// Without Dtors, with exceptions\n",
    "\n",
    "auto read_file(string path) -> string {\n",
    "    FileReader file{path};\n",
    "    try {\n",
    "        string content = file.read();\n",
    "        return content;\n",
    "    } finally {\n",
    "        file.close();\n",
    "    }\n",
    "}\n",
    "```\n",
    "\n",
    "```C++\n",
    "// With Dtors, with exceptions\n",
    "\n",
    "auto read_file(string path) -> string {\n",
    "    FileReader file{path};\n",
    "    string content = file.read();\n",
    "    return content;\n",
    "}\n",
    "```"
   ],
   "metadata": {
    "collapsed": false,
    "pycharm": {
     "name": "#%% md\n"
    }
   }
  },
  {
   "cell_type": "markdown",
   "source": [
    "## Composable\n",
    "\n",
    "Our objects can have members with dtors.\n",
    "In those cases, the dtors of the members are automatically\n",
    "called in the right time as well.\n",
    "We don't need to write any extra code to make it work."
   ],
   "metadata": {
    "collapsed": false,
    "pycharm": {
     "name": "#%% md\n"
    }
   }
  },
  {
   "cell_type": "markdown",
   "source": [
    "## Implicit\n",
    "\n",
    "Destructors do not affect the usage of our objects.\n",
    "They are enabled by default (though we _can_ make them private...)\n",
    "\n",
    "Here's a code example:\n",
    "\n",
    "```C++\n",
    "\n",
    "// Without dtors\n",
    "\n",
    "MyType instance{};\n",
    "\n",
    "// With dtors\n",
    "\n",
    "MyType instance{};\n",
    "\n",
    "```\n",
    "The code is exactly the same.\n",
    "\n",
    "This is a key part.\n",
    "It gives us the freedom to add dtors when we need to.\n",
    "It also gives us the ability to freely compose our types\n",
    "with no concerns about the interfaces."
   ],
   "metadata": {
    "collapsed": false,
    "pycharm": {
     "name": "#%% md\n"
    }
   }
  },
  {
   "cell_type": "markdown",
   "source": [
    "Now let's have a look at Python.\n",
    "\n",
    "First,\n",
    "\n",
    "## Automatic\n",
    "\n",
    "In Python, we don't have destructors, but we have context managers.\n",
    "It is also very common to use exceptions."
   ],
   "metadata": {
    "collapsed": false,
    "pycharm": {
     "name": "#%% md\n"
    }
   }
  },
  {
   "cell_type": "code",
   "execution_count": null,
   "outputs": [],
   "source": [
    "def read_file(path: str) -> str:\n",
    "    file = FileReader(path)\n",
    "    try:\n",
    "        return file.read()\n",
    "    finally:\n",
    "        file.close()\n",
    "\n",
    "\n",
    "def read_file(path: str) -> str:\n",
    "    file = FileReader(path)\n",
    "    with file:\n",
    "        return file.read()"
   ],
   "metadata": {
    "collapsed": false,
    "pycharm": {
     "name": "#%%\n"
    }
   }
  },
  {
   "cell_type": "markdown",
   "source": [
    "As you can see - instead of creating a variable, we're using\n",
    "a `with` statement.\n",
    "The `with` statement creats a new indented block.\n",
    "When entering the block, it calls `file`'s `__enter__` method.\n",
    "When leaving the block, via regular flow or due to\n",
    "an exception - it'll call `file`'s `__exit__` method.\n",
    "If an exception was raised, the `__exit__` method has the chance\n",
    "to handle it or re-throw it.\n",
    "\n",
    "Here, we close the file without handling the exception."
   ],
   "metadata": {
    "collapsed": false,
    "pycharm": {
     "name": "#%% md\n"
    }
   }
  },
  {
   "cell_type": "code",
   "execution_count": null,
   "outputs": [],
   "source": [
    "class FileReader:\n",
    "    ...\n",
    "\n",
    "    def __enter__(self):\n",
    "        return self\n",
    "\n",
    "    def __exit__(self, exc_type, exc_val, exc_tb):\n",
    "        self.close()"
   ],
   "metadata": {
    "collapsed": false,
    "pycharm": {
     "name": "#%%\n"
    }
   }
  },
  {
   "cell_type": "markdown",
   "source": [
    "So we have Automatic down, for the most part.\n",
    "\n",
    "## Composable\n",
    "\n",
    "Python offers no such thing.\n",
    "Sure, we can store member variables,\n",
    "but there's no mechanism to automatically call their `__exit__` methods.\n",
    "We have to do it ourselves."
   ],
   "metadata": {
    "collapsed": false,
    "pycharm": {
     "name": "#%% md\n"
    }
   }
  },
  {
   "cell_type": "code",
   "execution_count": null,
   "outputs": [],
   "source": [
    "class FileHolder:\n",
    "    ...\n",
    "\n",
    "    def __exit__(self, exc_type, exc_val, exc_tb):\n",
    "        self.file1.close()\n",
    "        self.file2.close()"
   ],
   "metadata": {
    "collapsed": false,
    "pycharm": {
     "name": "#%%\n"
    }
   }
  },
  {
   "cell_type": "markdown",
   "source": [
    "## Implicit\n",
    "\n",
    "As with already seen - Python's scope-based destruction is\n",
    "very explicit.\n",
    "We have to write our code with it in mind."
   ],
   "metadata": {
    "collapsed": false,
    "pycharm": {
     "name": "#%% md\n"
    }
   }
  },
  {
   "cell_type": "markdown",
   "source": [
    "But... Why does it matter so much?\n",
    "\n",
    "Let's look at a code example.\n",
    "\n",
    "This is a simplification of some production code I recently had to change."
   ],
   "metadata": {
    "collapsed": false,
    "pycharm": {
     "name": "#%% md\n"
    }
   }
  },
  {
   "cell_type": "code",
   "execution_count": null,
   "outputs": [],
   "source": [
    "class ArchiveReader:\n",
    "    def __init__(self, path: str):\n",
    "        self.data = {}\n",
    "        with ZipFile(path) as zipfile:\n",
    "            for name in zipfile.namelist():\n",
    "                with zipfile.open(name) as f:\n",
    "                    self.data[name] = f.read()\n",
    "\n",
    "    def read(self, name):\n",
    "        return self.data[name]"
   ],
   "metadata": {
    "collapsed": false,
    "pycharm": {
     "name": "#%%\n"
    }
   }
  },
  {
   "cell_type": "markdown",
   "source": [
    "We have some data stored in a multi-file zip archive.\n",
    "Since the zipfiles were originally very small, we just loaded\n",
    "all the data into memory, and returned the relevant data\n",
    "when requested.\n",
    "\n",
    "Later, however, the files have gotten larger.\n",
    "Too large to keep in memory.\n",
    "So now, we have to open the zipfile when we create our object,\n",
    "and close it when we're destructing our object."
   ],
   "metadata": {
    "collapsed": false,
    "pycharm": {
     "name": "#%% md\n"
    }
   }
  },
  {
   "cell_type": "code",
   "execution_count": null,
   "outputs": [],
   "source": [
    "class BigArchiveReader:\n",
    "    def __init__(self, path: str):\n",
    "        self.zipfile = ZipFile(path)\n",
    "\n",
    "    def read(self, name: str):\n",
    "        with self.zipfile.open(name) as f:\n",
    "            return parse(f.read())\n",
    "\n",
    "    def __enter__(self):\n",
    "        return self\n",
    "\n",
    "    def __exit__(self, exc_type, exc_val, exc_tb):\n",
    "        self.zipfile.close()\n",
    "        return False"
   ],
   "metadata": {
    "collapsed": false,
    "pycharm": {
     "name": "#%%\n"
    }
   }
  },
  {
   "cell_type": "markdown",
   "source": [
    "As Python does not have any built-in composability for context-managers,\n",
    "we need to convert our class into a context-manager as well.\n",
    "\n",
    "Additionally, as context-managers are not implicit, this would affect the\n",
    "usage of our class:"
   ],
   "metadata": {
    "collapsed": false,
    "pycharm": {
     "name": "#%% md\n"
    }
   }
  },
  {
   "cell_type": "code",
   "execution_count": null,
   "outputs": [],
   "source": [
    "reader = ArchiveReader(\"corecpp.zip\")\n",
    "print(reader.read(\"2021\"))\n",
    "\n",
    "with BigArchiveReader(\"corecpp.zip\") as big_reader:\n",
    "    print(reader.read(\"2021\"))"
   ],
   "metadata": {
    "collapsed": false,
    "pycharm": {
     "name": "#%%\n"
    }
   }
  },
  {
   "cell_type": "markdown",
   "source": [
    "If used in one place, this is not a significant change.\n",
    "However, if the class is commonly used, or is used in code we cannot\n",
    "change, we won't be able to change the behaviour of our class."
   ],
   "metadata": {
    "collapsed": false,
    "pycharm": {
     "name": "#%% md\n"
    }
   }
  },
  {
   "cell_type": "markdown",
   "source": [
    "If possible, we want to inch closer to what C++ has to offer.\n",
    "To have our code be something along the lines of"
   ],
   "metadata": {
    "collapsed": false,
    "pycharm": {
     "name": "#%% md\n"
    }
   }
  },
  {
   "cell_type": "code",
   "execution_count": null,
   "outputs": [],
   "source": [
    "class BestArchiveReader:\n",
    "    zipfile: ZipFile\n",
    "    def __init__(self, path: str):\n",
    "        self.zipfile = ZipFile(path)\n",
    "\n",
    "    def read(self, name: str):\n",
    "        with self.zipfile.open(name) as f:\n",
    "            return f.read()"
   ],
   "metadata": {
    "collapsed": false,
    "pycharm": {
     "name": "#%%\n"
    }
   }
  },
  {
   "cell_type": "code",
   "execution_count": null,
   "outputs": [],
   "source": [
    "reader = BestArchiveReader(\"corecpp.zip\")\n",
    "print(reader.read(\"2021\"))"
   ],
   "metadata": {
    "collapsed": false,
    "pycharm": {
     "name": "#%%\n"
    }
   }
  },
  {
   "cell_type": "markdown",
   "source": [
    "But with the semantics of the `BigArchiveReader`.\n",
    "Having the zipfile automatically closed when `BestArchiveReader`\n",
    "goes out of scope."
   ],
   "metadata": {
    "collapsed": false,
    "pycharm": {
     "name": "#%% md\n"
    }
   }
  },
  {
   "cell_type": "markdown",
   "source": [
    "Now that we know what we wanna do - it's time to head into the implementation.\n",
    "\n",
    "Just note that due to implementation details, we'll handle `implicit`\n",
    "before we handle `composable`."
   ],
   "metadata": {
    "collapsed": false,
    "pycharm": {
     "name": "#%% md\n"
    }
   }
  }
 ],
 "metadata": {
  "kernelspec": {
   "display_name": "Python 3",
   "language": "python",
   "name": "python3"
  },
  "language_info": {
   "codemirror_mode": {
    "name": "ipython",
    "version": 2
   },
   "file_extension": ".py",
   "mimetype": "text/x-python",
   "name": "python",
   "nbconvert_exporter": "python",
   "pygments_lexer": "ipython2",
   "version": "2.7.6"
  }
 },
 "nbformat": 4,
 "nbformat_minor": 0
}